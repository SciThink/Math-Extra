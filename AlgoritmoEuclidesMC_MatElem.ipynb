{
 "cells": [
  {
   "cell_type": "markdown",
   "metadata": {},
   "source": [
    "# Matemática Elemental\n",
    "## Ender Araujo. 2020\n",
    "### ISBN 978-9945-09-246-2\n",
    "\n",
    "Algoritmo de Euclides para hallar el Máximo Común Divisor (MCD) de dos números enteros, 300 ac."
   ]
  },
  {
   "cell_type": "markdown",
   "metadata": {},
   "source": [
    "En la versión basada en la resta que era la versión original de Euclides [1], el pseudocódigo es:\n",
    "\n",
    "```\n",
    "function mcd(a, b)\n",
    "    while a ≠ b\n",
    "        if a > b\n",
    "            a := a − b\n",
    "        else\n",
    "            b := b − a\n",
    "    return a\n",
    "```\n",
    "[1] Knuth, D. (1997). *The Art of Computer Programming.* Vol 2. 3rd. Addison–Wesley.  "
   ]
  },
  {
   "cell_type": "code",
   "execution_count": 1,
   "metadata": {},
   "outputs": [
    {
     "name": "stdout",
     "output_type": "stream",
     "text": [
      "El Máximo Común Divisor de (60, 48) es 12.\n"
     ]
    }
   ],
   "source": [
    "def mcd(a,b):\n",
    "    while a != b:\n",
    "        if a > b:\n",
    "            a = a - b\n",
    "        else:\n",
    "            b = b - a\n",
    "    return a\n",
    "a = 60; b = 48\n",
    "print ( 'El Máximo Común Divisor de (%g, %g) es %g.' % (a, b, mcd(a,b)) )"
   ]
  },
  {
   "cell_type": "markdown",
   "metadata": {},
   "source": [
    "En la versión recursiva [1], el pseudocódigo es:\n",
    "\n",
    "```\n",
    "function mcd(a, b)\n",
    "    if b = 0\n",
    "        return a\n",
    "    else\n",
    "        return gcd(b, a mod b)\n",
    "```"
   ]
  },
  {
   "cell_type": "code",
   "execution_count": 2,
   "metadata": {},
   "outputs": [
    {
     "name": "stdout",
     "output_type": "stream",
     "text": [
      "El Máximo Común Divisor de (150, 39) es 3.\n"
     ]
    }
   ],
   "source": [
    "def mcd(a,b):\n",
    "    if b == 0:\n",
    "        return a\n",
    "    else:\n",
    "        return mcd(b, a % b)\n",
    "a = 150; b = 39\n",
    "print ( 'El Máximo Común Divisor de (%g, %g) es %g.' % (a, b, mcd(a,b)) )"
   ]
  }
 ],
 "metadata": {
  "kernelspec": {
   "display_name": "Python 3",
   "language": "python",
   "name": "python3"
  },
  "language_info": {
   "codemirror_mode": {
    "name": "ipython",
    "version": 3
   },
   "file_extension": ".py",
   "mimetype": "text/x-python",
   "name": "python",
   "nbconvert_exporter": "python",
   "pygments_lexer": "ipython3",
   "version": "3.7.4"
  }
 },
 "nbformat": 4,
 "nbformat_minor": 2
}
